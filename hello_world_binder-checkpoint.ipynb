name=input("I love you very much")
print(name)
